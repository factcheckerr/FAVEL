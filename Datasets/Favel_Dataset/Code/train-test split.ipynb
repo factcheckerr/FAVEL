{
 "cells": [
  {
   "cell_type": "markdown",
   "id": "23779910",
   "metadata": {},
   "source": [
    "### split csv files into train and test sets and export each triple in a turtle file"
   ]
  },
  {
   "cell_type": "code",
   "execution_count": 1,
   "id": "2d0633fe",
   "metadata": {},
   "outputs": [],
   "source": [
    "import pandas as pd\n",
    "from numpy.random import RandomState\n",
    "from rdflib import Graph, plugin, URIRef\n",
    "from SPARQLWrapper import SPARQLWrapper, RDF\n",
    "import os"
   ]
  },
  {
   "cell_type": "code",
   "execution_count": 2,
   "id": "0e4f6a7f",
   "metadata": {},
   "outputs": [],
   "source": [
    "# Convert csv file containing facts to dataframe\n",
    "# Provide path where the file exists\n",
    "# and the file name with extension\n",
    "\n",
    "path = 'FinalDataset_Hard/Files/Wrong'\n",
    "\n",
    "cols = ['subject', 'predicate', 'object', 'truth_value']\n",
    "df = pd.read_csv(os.path.join(path,'movie-productionCompany-negative.csv'), sep=\";\", names = cols, encoding='cp1252')\n",
    "\n",
    "df = df.drop(0, axis=0)\n",
    "df = df.drop('truth_value', axis=1)\n",
    "\n",
    "df = df.drop_duplicates()"
   ]
  },
  {
   "cell_type": "code",
   "execution_count": null,
   "id": "22ef1fb7",
   "metadata": {
    "scrolled": false
   },
   "outputs": [],
   "source": [
    "df"
   ]
  },
  {
   "cell_type": "code",
   "execution_count": 4,
   "id": "221ca934",
   "metadata": {},
   "outputs": [],
   "source": [
    "# Splitting the dataframe into train and test set in 70:30 ratio respectively\n",
    "range = RandomState()\n",
    "\n",
    "train = df.sample(frac=0.7, random_state=range)\n",
    "test = df.loc[~df.index.isin(train.index)]"
   ]
  },
  {
   "cell_type": "code",
   "execution_count": 5,
   "id": "2e21cc4c",
   "metadata": {},
   "outputs": [],
   "source": [
    "# Generate turtle files for the train set\n",
    "# Provide path where the turtle file should be created\n",
    "# and provide a prefix for file name\n",
    "\n",
    "g = Graph()\n",
    "\n",
    "for i, row in train.iterrows():\n",
    "    g.add((URIRef(row['subject']), URIRef(row['predicate']), URIRef(row['object']))) \n",
    "    \n",
    "counter  = 0\n",
    "path = 'FinalDataset_Hard/Turtle/Train/Wrong/movie-productionCompany'\n",
    "if not os.path.exists(path):\n",
    "    os.makedirs(path)\n",
    "    \n",
    "for i in g.subjects():\n",
    "    g4 = Graph()\n",
    "    for j in g.predicate_objects(subject = i):\n",
    "        g4.add((i, j[0], j[1]))\n",
    "    filename = 'movie-productionCompany-'+str(counter)+'.ttl'\n",
    "    g4.serialize(destination = os.path.join(path, filename), format='ttl')\n",
    "    counter+=1"
   ]
  },
  {
   "cell_type": "code",
   "execution_count": 6,
   "id": "de4f3aab",
   "metadata": {},
   "outputs": [],
   "source": [
    "# Generate turtle files for the test set\n",
    "# Provide path where the turtle file should be created\n",
    "# and provide a prefix for file name\n",
    "\n",
    "g = Graph()\n",
    "\n",
    "for i, row in test.iterrows():\n",
    "    g.add((URIRef(row['subject']), URIRef(row['predicate']), URIRef(row['object']))) \n",
    "    \n",
    "counter  = 0\n",
    "path = 'FinalDataset_Hard/Turtle/Test/Wrong/movie-productionCompany'\n",
    "if not os.path.exists(path):\n",
    "    os.makedirs(path)\n",
    "    \n",
    "for i in g.subjects():\n",
    "    g4 = Graph()\n",
    "    for j in g.predicate_objects(subject = i):\n",
    "        g4.add((i, j[0], j[1]))\n",
    "    filename = 'movie-productionCompany-'+str(counter)+'.ttl'\n",
    "    g4.serialize(destination = os.path.join(path, filename), format='ttl')\n",
    "    counter+=1"
   ]
  }
 ],
 "metadata": {
  "kernelspec": {
   "display_name": "Python 3 (ipykernel)",
   "language": "python",
   "name": "python3"
  },
  "language_info": {
   "codemirror_mode": {
    "name": "ipython",
    "version": 3
   },
   "file_extension": ".py",
   "mimetype": "text/x-python",
   "name": "python",
   "nbconvert_exporter": "python",
   "pygments_lexer": "ipython3",
   "version": "3.9.7"
  }
 },
 "nbformat": 4,
 "nbformat_minor": 5
}
